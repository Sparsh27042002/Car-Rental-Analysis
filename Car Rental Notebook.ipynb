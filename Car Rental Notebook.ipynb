{
 "cells": [
  {
   "cell_type": "code",
   "execution_count": 1,
   "metadata": {
    "id": "9cb12449-9a93-42b3-ae8c-9d252863f265"
   },
   "outputs": [
    {
     "name": "stdout",
     "output_type": "stream",
     "text": [
      "Requirement already satisfied: datasets in /opt/conda/envs/Python-RT24.1/lib/python3.11/site-packages (2.18.0)\n",
      "Requirement already satisfied: filelock in /opt/conda/envs/Python-RT24.1/lib/python3.11/site-packages (from datasets) (3.13.1)\n",
      "Requirement already satisfied: numpy>=1.17 in /opt/conda/envs/Python-RT24.1/lib/python3.11/site-packages (from datasets) (1.26.4)\n",
      "Requirement already satisfied: pyarrow>=12.0.0 in /opt/conda/envs/Python-RT24.1/lib/python3.11/site-packages (from datasets) (15.0.1)\n",
      "Requirement already satisfied: pyarrow-hotfix in /opt/conda/envs/Python-RT24.1/lib/python3.11/site-packages (from datasets) (0.6)\n",
      "Requirement already satisfied: dill<0.3.9,>=0.3.0 in /opt/conda/envs/Python-RT24.1/lib/python3.11/site-packages (from datasets) (0.3.8)\n",
      "Requirement already satisfied: pandas in /opt/conda/envs/Python-RT24.1/lib/python3.11/site-packages (from datasets) (2.1.4)\n",
      "Requirement already satisfied: requests>=2.19.0 in /opt/conda/envs/Python-RT24.1/lib/python3.11/site-packages (from datasets) (2.32.2)\n",
      "Requirement already satisfied: tqdm>=4.62.1 in /opt/conda/envs/Python-RT24.1/lib/python3.11/site-packages (from datasets) (4.66.4)\n",
      "Requirement already satisfied: xxhash in /opt/conda/envs/Python-RT24.1/lib/python3.11/site-packages (from datasets) (3.4.1)\n",
      "Requirement already satisfied: multiprocess in /opt/conda/envs/Python-RT24.1/lib/python3.11/site-packages (from datasets) (0.70.15)\n",
      "Requirement already satisfied: fsspec<=2024.2.0,>=2023.1.0 in /opt/conda/envs/Python-RT24.1/lib/python3.11/site-packages (from fsspec[http]<=2024.2.0,>=2023.1.0->datasets) (2023.10.0)\n",
      "Requirement already satisfied: aiohttp in /opt/conda/envs/Python-RT24.1/lib/python3.11/site-packages (from datasets) (3.11.10)\n",
      "Requirement already satisfied: huggingface-hub>=0.19.4 in /opt/conda/envs/Python-RT24.1/lib/python3.11/site-packages (from datasets) (0.29.2)\n",
      "Requirement already satisfied: packaging in /opt/conda/envs/Python-RT24.1/lib/python3.11/site-packages (from datasets) (23.2)\n",
      "Requirement already satisfied: pyyaml>=5.1 in /opt/conda/envs/Python-RT24.1/lib/python3.11/site-packages (from datasets) (6.0.1)\n",
      "Requirement already satisfied: aiohappyeyeballs>=2.3.0 in /opt/conda/envs/Python-RT24.1/lib/python3.11/site-packages (from aiohttp->datasets) (2.4.0)\n",
      "Requirement already satisfied: aiosignal>=1.1.2 in /opt/conda/envs/Python-RT24.1/lib/python3.11/site-packages (from aiohttp->datasets) (1.2.0)\n",
      "Requirement already satisfied: attrs>=17.3.0 in /opt/conda/envs/Python-RT24.1/lib/python3.11/site-packages (from aiohttp->datasets) (23.1.0)\n",
      "Requirement already satisfied: frozenlist>=1.1.1 in /opt/conda/envs/Python-RT24.1/lib/python3.11/site-packages (from aiohttp->datasets) (1.4.0)\n",
      "Requirement already satisfied: multidict<7.0,>=4.5 in /opt/conda/envs/Python-RT24.1/lib/python3.11/site-packages (from aiohttp->datasets) (6.0.4)\n",
      "Requirement already satisfied: propcache>=0.2.0 in /opt/conda/envs/Python-RT24.1/lib/python3.11/site-packages (from aiohttp->datasets) (0.2.0)\n",
      "Requirement already satisfied: yarl<2.0,>=1.17.0 in /opt/conda/envs/Python-RT24.1/lib/python3.11/site-packages (from aiohttp->datasets) (1.18.0)\n",
      "Requirement already satisfied: typing-extensions>=3.7.4.3 in /opt/conda/envs/Python-RT24.1/lib/python3.11/site-packages (from huggingface-hub>=0.19.4->datasets) (4.11.0)\n",
      "Requirement already satisfied: charset-normalizer<4,>=2 in /opt/conda/envs/Python-RT24.1/lib/python3.11/site-packages (from requests>=2.19.0->datasets) (2.0.4)\n",
      "Requirement already satisfied: idna<4,>=2.5 in /opt/conda/envs/Python-RT24.1/lib/python3.11/site-packages (from requests>=2.19.0->datasets) (3.7)\n",
      "Requirement already satisfied: urllib3<3,>=1.21.1 in /opt/conda/envs/Python-RT24.1/lib/python3.11/site-packages (from requests>=2.19.0->datasets) (1.26.19)\n",
      "Requirement already satisfied: certifi>=2017.4.17 in /opt/conda/envs/Python-RT24.1/lib/python3.11/site-packages (from requests>=2.19.0->datasets) (2025.1.31)\n",
      "Requirement already satisfied: python-dateutil>=2.8.2 in /opt/conda/envs/Python-RT24.1/lib/python3.11/site-packages (from pandas->datasets) (2.8.2)\n",
      "Requirement already satisfied: pytz>=2020.1 in /opt/conda/envs/Python-RT24.1/lib/python3.11/site-packages (from pandas->datasets) (2024.1)\n",
      "Requirement already satisfied: tzdata>=2022.1 in /opt/conda/envs/Python-RT24.1/lib/python3.11/site-packages (from pandas->datasets) (2023.3)\n",
      "Requirement already satisfied: six>=1.5 in /opt/conda/envs/Python-RT24.1/lib/python3.11/site-packages (from python-dateutil>=2.8.2->pandas->datasets) (1.16.0)\n",
      "Requirement already satisfied: scikit-learn in /opt/conda/envs/Python-RT24.1/lib/python3.11/site-packages (1.3.0)\n",
      "Requirement already satisfied: numpy>=1.17.3 in /opt/conda/envs/Python-RT24.1/lib/python3.11/site-packages (from scikit-learn) (1.26.4)\n",
      "Requirement already satisfied: scipy>=1.5.0 in /opt/conda/envs/Python-RT24.1/lib/python3.11/site-packages (from scikit-learn) (1.11.4)\n",
      "Requirement already satisfied: joblib>=1.1.1 in /opt/conda/envs/Python-RT24.1/lib/python3.11/site-packages (from scikit-learn) (1.3.2)\n",
      "Requirement already satisfied: threadpoolctl>=2.0.0 in /opt/conda/envs/Python-RT24.1/lib/python3.11/site-packages (from scikit-learn) (2.2.0)\n",
      "Collecting ibm-watson-machine-learning==1.0.312\n",
      "  Downloading ibm_watson_machine_learning-1.0.312-py3-none-any.whl.metadata (8.9 kB)\n",
      "Requirement already satisfied: requests in /opt/conda/envs/Python-RT24.1/lib/python3.11/site-packages (from ibm-watson-machine-learning==1.0.312) (2.32.2)\n",
      "Requirement already satisfied: urllib3 in /opt/conda/envs/Python-RT24.1/lib/python3.11/site-packages (from ibm-watson-machine-learning==1.0.312) (1.26.19)\n",
      "Collecting pandas<1.6.0,>=0.24.2 (from ibm-watson-machine-learning==1.0.312)\n",
      "  Downloading pandas-1.5.3-cp311-cp311-manylinux_2_17_x86_64.manylinux2014_x86_64.whl.metadata (11 kB)\n",
      "Requirement already satisfied: certifi in /opt/conda/envs/Python-RT24.1/lib/python3.11/site-packages (from ibm-watson-machine-learning==1.0.312) (2025.1.31)\n",
      "Requirement already satisfied: lomond in /opt/conda/envs/Python-RT24.1/lib/python3.11/site-packages (from ibm-watson-machine-learning==1.0.312) (0.3.3)\n",
      "Requirement already satisfied: tabulate in /opt/conda/envs/Python-RT24.1/lib/python3.11/site-packages (from ibm-watson-machine-learning==1.0.312) (0.8.10)\n",
      "Requirement already satisfied: packaging in /opt/conda/envs/Python-RT24.1/lib/python3.11/site-packages (from ibm-watson-machine-learning==1.0.312) (23.2)\n",
      "Requirement already satisfied: importlib-metadata in /opt/conda/envs/Python-RT24.1/lib/python3.11/site-packages (from ibm-watson-machine-learning==1.0.312) (7.0.1)\n",
      "Requirement already satisfied: ibm-cos-sdk<2.14.0,>=2.12.0 in /opt/conda/envs/Python-RT24.1/lib/python3.11/site-packages (from ibm-watson-machine-learning==1.0.312) (2.13.4)\n",
      "Requirement already satisfied: ibm-cos-sdk-core==2.13.4 in /opt/conda/envs/Python-RT24.1/lib/python3.11/site-packages (from ibm-cos-sdk<2.14.0,>=2.12.0->ibm-watson-machine-learning==1.0.312) (2.13.4)\n",
      "Requirement already satisfied: ibm-cos-sdk-s3transfer==2.13.4 in /opt/conda/envs/Python-RT24.1/lib/python3.11/site-packages (from ibm-cos-sdk<2.14.0,>=2.12.0->ibm-watson-machine-learning==1.0.312) (2.13.4)\n",
      "Requirement already satisfied: jmespath<=1.0.1,>=0.10.0 in /opt/conda/envs/Python-RT24.1/lib/python3.11/site-packages (from ibm-cos-sdk<2.14.0,>=2.12.0->ibm-watson-machine-learning==1.0.312) (1.0.1)\n",
      "Requirement already satisfied: python-dateutil<3.0.0,>=2.8.2 in /opt/conda/envs/Python-RT24.1/lib/python3.11/site-packages (from ibm-cos-sdk-core==2.13.4->ibm-cos-sdk<2.14.0,>=2.12.0->ibm-watson-machine-learning==1.0.312) (2.8.2)\n",
      "Requirement already satisfied: pytz>=2020.1 in /opt/conda/envs/Python-RT24.1/lib/python3.11/site-packages (from pandas<1.6.0,>=0.24.2->ibm-watson-machine-learning==1.0.312) (2024.1)\n",
      "Requirement already satisfied: numpy>=1.21.0 in /opt/conda/envs/Python-RT24.1/lib/python3.11/site-packages (from pandas<1.6.0,>=0.24.2->ibm-watson-machine-learning==1.0.312) (1.26.4)\n",
      "Requirement already satisfied: charset-normalizer<4,>=2 in /opt/conda/envs/Python-RT24.1/lib/python3.11/site-packages (from requests->ibm-watson-machine-learning==1.0.312) (2.0.4)\n",
      "Requirement already satisfied: idna<4,>=2.5 in /opt/conda/envs/Python-RT24.1/lib/python3.11/site-packages (from requests->ibm-watson-machine-learning==1.0.312) (3.7)\n",
      "Requirement already satisfied: zipp>=0.5 in /opt/conda/envs/Python-RT24.1/lib/python3.11/site-packages (from importlib-metadata->ibm-watson-machine-learning==1.0.312) (3.20.2)\n",
      "Requirement already satisfied: six>=1.10.0 in /opt/conda/envs/Python-RT24.1/lib/python3.11/site-packages (from lomond->ibm-watson-machine-learning==1.0.312) (1.16.0)\n",
      "Downloading ibm_watson_machine_learning-1.0.312-py3-none-any.whl (1.7 MB)\n",
      "\u001b[2K   \u001b[90m━━━━━━━━━━━━━━━━━━━━━━━━━━━━━━━━━━━━━━━━\u001b[0m \u001b[32m1.7/1.7 MB\u001b[0m \u001b[31m11.8 MB/s\u001b[0m eta \u001b[36m0:00:00\u001b[0ma \u001b[36m0:00:01\u001b[0m\n",
      "\u001b[?25hDownloading pandas-1.5.3-cp311-cp311-manylinux_2_17_x86_64.manylinux2014_x86_64.whl (12.0 MB)\n",
      "\u001b[2K   \u001b[90m━━━━━━━━━━━━━━━━━━━━━━━━━━━━━━━━━━━━━━━━\u001b[0m \u001b[32m12.0/12.0 MB\u001b[0m \u001b[31m76.5 MB/s\u001b[0m eta \u001b[36m0:00:00\u001b[0m:00:01\u001b[0m0:01\u001b[0m\n",
      "\u001b[?25hInstalling collected packages: pandas, ibm-watson-machine-learning\n",
      "  Attempting uninstall: pandas\n",
      "    Found existing installation: pandas 2.1.4\n",
      "    Uninstalling pandas-2.1.4:\n",
      "      Successfully uninstalled pandas-2.1.4\n",
      "  Attempting uninstall: ibm-watson-machine-learning\n",
      "    Found existing installation: ibm_watson_machine_learning 1.0.367\n",
      "    Uninstalling ibm_watson_machine_learning-1.0.367:\n",
      "      Successfully uninstalled ibm_watson_machine_learning-1.0.367\n",
      "\u001b[31mERROR: pip's dependency resolver does not currently take into account all the packages that are installed. This behaviour is the source of the following dependency conflicts.\n",
      "autoai-ts-libs 4.0.15 requires pandas==2.1.*, but you have pandas 1.5.3 which is incompatible.\n",
      "autoai-libs 2.0.11 requires pandas==2.1.*, but you have pandas 1.5.3 which is incompatible.\u001b[0m\u001b[31m\n",
      "\u001b[0mSuccessfully installed ibm-watson-machine-learning-1.0.312 pandas-1.5.3\n"
     ]
    }
   ],
   "source": [
    "!pip install datasets\n",
    "!pip install scikit-learn\n",
    "!pip install ibm-watson-machine-learning==1.0.312"
   ]
  },
  {
   "cell_type": "code",
   "execution_count": 2,
   "metadata": {
    "id": "c35dc8c5-c867-4c95-8a65-328eb623289b"
   },
   "outputs": [],
   "source": [
    "import os, getpass\n",
    "from pandas import read_csv"
   ]
  },
  {
   "cell_type": "code",
   "execution_count": 21,
   "metadata": {
    "id": "34104924-cf95-475e-ac67-af0908917464"
   },
   "outputs": [
    {
     "name": "stdin",
     "output_type": "stream",
     "text": [
      "Enter your API key ········\n"
     ]
    }
   ],
   "source": [
    "credentials = {\n",
    "    \"url\" : \"https://eu-de.ml.cloud.ibm.com\" ,\n",
    "    \"apikey\" : getpass.getpass(\"Enter your API key\")\n",
    "}"
   ]
  },
  {
   "cell_type": "code",
   "execution_count": 22,
   "metadata": {
    "id": "15073a92-c8bd-419d-9c0d-7c641bd0f968"
   },
   "outputs": [],
   "source": [
    "try:\n",
    "    project_id = os.environ[\"PROJECT_ID\"]\n",
    "except KeyError:\n",
    "    project_id = input(\"Enter your Project ID\")"
   ]
  },
  {
   "cell_type": "code",
   "execution_count": 23,
   "metadata": {
    "id": "76d52908-75c3-4e41-b608-8842ce3b5ca5"
   },
   "outputs": [
    {
     "data": {
      "text/plain": [
       "'662f4904-0344-4ea9-b975-da4745bbb2a1'"
      ]
     },
     "execution_count": 23,
     "metadata": {},
     "output_type": "execute_result"
    }
   ],
   "source": [
    "project_id"
   ]
  },
  {
   "cell_type": "code",
   "execution_count": null,
   "metadata": {
    "id": "d3f9038e-2cc5-4cc6-8992-fefa54224735"
   },
   "outputs": [],
   "source": [
    "\n",
    "import os, types\n",
    "import pandas as pd\n",
    "from botocore.client import Config\n",
    "import ibm_boto3\n",
    "\n",
    "def __iter__(self): return 0\n",
    "\n",
    "# @hidden_cell\n",
    "# The following code accesses a file in your IBM Cloud Object Storage. It includes your credentials.\n",
    "# You might want to remove those credentials before you share the notebook.\n",
    "\n",
    "cos_client = ibm_boto3.client(service_name='s3',\n",
    "    ibm_api_key_id='IcXY9sbCKgaK7ZpjkV7MdDtT9941lWVTf0ejXeyx44mc',\n",
    "    ibm_auth_endpoint=\"https://iam.cloud.ibm.com/identity/token\",\n",
    "    config=Config(signature_version='oauth'),\n",
    "    endpoint_url='https://s3.direct.eu-de.cloud-object-storage.appdomain.cloud')\n",
    "\n",
    "bucket = 'lashassandbox-donotdelete-pr-7asd0ktkznumzv'\n",
    "object_key = 'car_rental_train.csv'\n",
    "\n",
    "body = cos_client.get_object(Bucket=bucket,Key=object_key)['Body']\n",
    "# add missing __iter__ method, so pandas accepts body as file-like object\n",
    "if not hasattr(body, \"__iter__\"): body.__iter__ = types.MethodType( __iter__, body )\n",
    "\n",
    "df_1 = pd.read_csv(body)\n",
    "df_1.head(10)\n"
   ]
  },
  {
   "cell_type": "code",
   "execution_count": null,
   "metadata": {
    "id": "67064a62-8b02-432d-ae3e-880617df26ee"
   },
   "outputs": [],
   "source": [
    "\n",
    "import os, types\n",
    "import pandas as pd\n",
    "from botocore.client import Config\n",
    "import ibm_boto3\n",
    "\n",
    "def __iter__(self): return 0\n",
    "\n",
    "# @hidden_cell\n",
    "# The following code accesses a file in your IBM Cloud Object Storage. It includes your credentials.\n",
    "# You might want to remove those credentials before you share the notebook.\n",
    "\n",
    "cos_client = ibm_boto3.client(service_name='s3',\n",
    "    ibm_api_key_id='IcXY9sbCKgaK7ZpjkV7MdDtT9941lWVTf0ejXeyx44mc',\n",
    "    ibm_auth_endpoint=\"https://iam.cloud.ibm.com/identity/token\",\n",
    "    config=Config(signature_version='oauth'),\n",
    "    endpoint_url='https://s3.direct.eu-de.cloud-object-storage.appdomain.cloud')\n",
    "\n",
    "bucket = 'lashassandbox-donotdelete-pr-7asd0ktkznumzv'\n",
    "object_key = 'car_rental_test.csv'\n",
    "\n",
    "body = cos_client.get_object(Bucket=bucket,Key=object_key)['Body']\n",
    "# add missing __iter__ method, so pandas accepts body as file-like object\n",
    "if not hasattr(body, \"__iter__\"): body.__iter__ = types.MethodType( __iter__, body )\n",
    "\n",
    "df_2 = pd.read_csv(body)\n",
    "df_2.head(10)\n"
   ]
  },
  {
   "cell_type": "code",
   "execution_count": 24,
   "metadata": {
    "id": "1b04667a-2298-47cf-b280-a26739f25619"
   },
   "outputs": [
    {
     "data": {
      "text/html": [
       "<div>\n",
       "<style scoped>\n",
       "    .dataframe tbody tr th:only-of-type {\n",
       "        vertical-align: middle;\n",
       "    }\n",
       "\n",
       "    .dataframe tbody tr th {\n",
       "        vertical-align: top;\n",
       "    }\n",
       "\n",
       "    .dataframe thead th {\n",
       "        text-align: right;\n",
       "    }\n",
       "</style>\n",
       "<table border=\"1\" class=\"dataframe\">\n",
       "  <thead>\n",
       "    <tr style=\"text-align: right;\">\n",
       "      <th></th>\n",
       "      <th>ID</th>\n",
       "      <th>Gender</th>\n",
       "      <th>Age</th>\n",
       "      <th>Customer Status</th>\n",
       "      <th>Customer Service</th>\n",
       "      <th>Satisfaction</th>\n",
       "      <th>Business Area</th>\n",
       "    </tr>\n",
       "  </thead>\n",
       "  <tbody>\n",
       "    <tr>\n",
       "      <th>0</th>\n",
       "      <td>1</td>\n",
       "      <td>Male</td>\n",
       "      <td>23</td>\n",
       "      <td>Active</td>\n",
       "      <td>The app crashed multiple times</td>\n",
       "      <td>0</td>\n",
       "      <td>App Usability</td>\n",
       "    </tr>\n",
       "    <tr>\n",
       "      <th>1</th>\n",
       "      <td>2</td>\n",
       "      <td>Other</td>\n",
       "      <td>67</td>\n",
       "      <td>Active</td>\n",
       "      <td>Pricing was transparent and fair</td>\n",
       "      <td>0</td>\n",
       "      <td>Pricing</td>\n",
       "    </tr>\n",
       "    <tr>\n",
       "      <th>2</th>\n",
       "      <td>3</td>\n",
       "      <td>Male</td>\n",
       "      <td>60</td>\n",
       "      <td>Inactive</td>\n",
       "      <td>I had to wait too long for dropoff</td>\n",
       "      <td>0</td>\n",
       "      <td>Dropoff Process</td>\n",
       "    </tr>\n",
       "    <tr>\n",
       "      <th>3</th>\n",
       "      <td>4</td>\n",
       "      <td>Female</td>\n",
       "      <td>31</td>\n",
       "      <td>Active</td>\n",
       "      <td>Dropoff was fast and efficient</td>\n",
       "      <td>0</td>\n",
       "      <td>Dropoff Process</td>\n",
       "    </tr>\n",
       "    <tr>\n",
       "      <th>4</th>\n",
       "      <td>5</td>\n",
       "      <td>Female</td>\n",
       "      <td>50</td>\n",
       "      <td>Active</td>\n",
       "      <td>Had trouble locating the rental office</td>\n",
       "      <td>1</td>\n",
       "      <td>Pickup Process</td>\n",
       "    </tr>\n",
       "  </tbody>\n",
       "</table>\n",
       "</div>"
      ],
      "text/plain": [
       "   ID  Gender  Age Customer Status                        Customer Service  \\\n",
       "0   1    Male   23          Active          The app crashed multiple times   \n",
       "1   2   Other   67          Active        Pricing was transparent and fair   \n",
       "2   3    Male   60        Inactive      I had to wait too long for dropoff   \n",
       "3   4  Female   31          Active          Dropoff was fast and efficient   \n",
       "4   5  Female   50          Active  Had trouble locating the rental office   \n",
       "\n",
       "   Satisfaction    Business Area  \n",
       "0             0    App Usability  \n",
       "1             0          Pricing  \n",
       "2             0  Dropoff Process  \n",
       "3             0  Dropoff Process  \n",
       "4             1   Pickup Process  "
      ]
     },
     "execution_count": 24,
     "metadata": {},
     "output_type": "execute_result"
    }
   ],
   "source": [
    "\n",
    "import os, types\n",
    "import pandas as pd\n",
    "from botocore.client import Config\n",
    "import ibm_boto3\n",
    "\n",
    "def __iter__(self): return 0\n",
    "\n",
    "# @hidden_cell\n",
    "# The following code accesses a file in your IBM Cloud Object Storage. It includes your credentials.\n",
    "# You might want to remove those credentials before you share the notebook.\n",
    "\n",
    "cos_client = ibm_boto3.client(service_name='s3',\n",
    "    ibm_api_key_id='IcXY9sbCKgaK7ZpjkV7MdDtT9941lWVTf0ejXeyx44mc',\n",
    "    ibm_auth_endpoint=\"https://iam.cloud.ibm.com/identity/token\",\n",
    "    config=Config(signature_version='oauth'),\n",
    "    endpoint_url='https://s3.direct.eu-de.cloud-object-storage.appdomain.cloud')\n",
    "\n",
    "bucket = 'lashassandbox-donotdelete-pr-7asd0ktkznumzv'\n",
    "object_key = 'car_rental_train.csv'\n",
    "\n",
    "body = cos_client.get_object(Bucket=bucket,Key=object_key)['Body']\n",
    "# add missing __iter__ method, so pandas accepts body as file-like object\n",
    "if not hasattr(body, \"__iter__\"): body.__iter__ = types.MethodType( __iter__, body )\n",
    "\n",
    "train_data = pd.read_csv(body)\n",
    "train_data.head(5)\n"
   ]
  },
  {
   "cell_type": "code",
   "execution_count": 25,
   "metadata": {
    "id": "4862a7fd-7137-4c6d-900a-83a3789ff6c2"
   },
   "outputs": [
    {
     "data": {
      "text/html": [
       "<div>\n",
       "<style scoped>\n",
       "    .dataframe tbody tr th:only-of-type {\n",
       "        vertical-align: middle;\n",
       "    }\n",
       "\n",
       "    .dataframe tbody tr th {\n",
       "        vertical-align: top;\n",
       "    }\n",
       "\n",
       "    .dataframe thead th {\n",
       "        text-align: right;\n",
       "    }\n",
       "</style>\n",
       "<table border=\"1\" class=\"dataframe\">\n",
       "  <thead>\n",
       "    <tr style=\"text-align: right;\">\n",
       "      <th></th>\n",
       "      <th>ID</th>\n",
       "      <th>Gender</th>\n",
       "      <th>Age</th>\n",
       "      <th>Customer Status</th>\n",
       "      <th>Customer Service</th>\n",
       "      <th>Satisfaction</th>\n",
       "      <th>Business Area</th>\n",
       "    </tr>\n",
       "  </thead>\n",
       "  <tbody>\n",
       "    <tr>\n",
       "      <th>0</th>\n",
       "      <td>1</td>\n",
       "      <td>Female</td>\n",
       "      <td>68</td>\n",
       "      <td>Active</td>\n",
       "      <td>Staff at pickup were helpful</td>\n",
       "      <td>0</td>\n",
       "      <td>Pickup Process</td>\n",
       "    </tr>\n",
       "    <tr>\n",
       "      <th>1</th>\n",
       "      <td>2</td>\n",
       "      <td>Male</td>\n",
       "      <td>40</td>\n",
       "      <td>Inactive</td>\n",
       "      <td>I received an old model with scratches</td>\n",
       "      <td>0</td>\n",
       "      <td>Vehicle Quality</td>\n",
       "    </tr>\n",
       "    <tr>\n",
       "      <th>2</th>\n",
       "      <td>3</td>\n",
       "      <td>Male</td>\n",
       "      <td>33</td>\n",
       "      <td>Inactive</td>\n",
       "      <td>Confusing dropoff instructions</td>\n",
       "      <td>0</td>\n",
       "      <td>Dropoff Process</td>\n",
       "    </tr>\n",
       "    <tr>\n",
       "      <th>3</th>\n",
       "      <td>4</td>\n",
       "      <td>Male</td>\n",
       "      <td>44</td>\n",
       "      <td>Active</td>\n",
       "      <td>Dropoff was fast and efficient</td>\n",
       "      <td>1</td>\n",
       "      <td>Dropoff Process</td>\n",
       "    </tr>\n",
       "    <tr>\n",
       "      <th>4</th>\n",
       "      <td>5</td>\n",
       "      <td>Male</td>\n",
       "      <td>61</td>\n",
       "      <td>Inactive</td>\n",
       "      <td>Difficult to navigate the app</td>\n",
       "      <td>1</td>\n",
       "      <td>App Usability</td>\n",
       "    </tr>\n",
       "  </tbody>\n",
       "</table>\n",
       "</div>"
      ],
      "text/plain": [
       "   ID  Gender  Age Customer Status                        Customer Service  \\\n",
       "0   1  Female   68          Active            Staff at pickup were helpful   \n",
       "1   2    Male   40        Inactive  I received an old model with scratches   \n",
       "2   3    Male   33        Inactive          Confusing dropoff instructions   \n",
       "3   4    Male   44          Active          Dropoff was fast and efficient   \n",
       "4   5    Male   61        Inactive           Difficult to navigate the app   \n",
       "\n",
       "   Satisfaction    Business Area  \n",
       "0             0   Pickup Process  \n",
       "1             0  Vehicle Quality  \n",
       "2             0  Dropoff Process  \n",
       "3             1  Dropoff Process  \n",
       "4             1    App Usability  "
      ]
     },
     "execution_count": 25,
     "metadata": {},
     "output_type": "execute_result"
    }
   ],
   "source": [
    "\n",
    "import os, types\n",
    "import pandas as pd\n",
    "from botocore.client import Config\n",
    "import ibm_boto3\n",
    "\n",
    "def __iter__(self): return 0\n",
    "\n",
    "# @hidden_cell\n",
    "# The following code accesses a file in your IBM Cloud Object Storage. It includes your credentials.\n",
    "# You might want to remove those credentials before you share the notebook.\n",
    "\n",
    "cos_client = ibm_boto3.client(service_name='s3',\n",
    "    ibm_api_key_id='IcXY9sbCKgaK7ZpjkV7MdDtT9941lWVTf0ejXeyx44mc',\n",
    "    ibm_auth_endpoint=\"https://iam.cloud.ibm.com/identity/token\",\n",
    "    config=Config(signature_version='oauth'),\n",
    "    endpoint_url='https://s3.direct.eu-de.cloud-object-storage.appdomain.cloud')\n",
    "\n",
    "bucket = 'lashassandbox-donotdelete-pr-7asd0ktkznumzv'\n",
    "object_key = 'car_rental_test.csv'\n",
    "\n",
    "body = cos_client.get_object(Bucket=bucket,Key=object_key)['Body']\n",
    "# add missing __iter__ method, so pandas accepts body as file-like object\n",
    "if not hasattr(body, \"__iter__\"): body.__iter__ = types.MethodType( __iter__, body )\n",
    "\n",
    "test_data = pd.read_csv(body)\n",
    "test_data.head(5)\n"
   ]
  },
  {
   "cell_type": "code",
   "execution_count": 26,
   "metadata": {
    "id": "a9c9079a-158e-4dbc-a679-a014c62941fe"
   },
   "outputs": [
    {
     "data": {
      "text/plain": [
       "(500, 7)"
      ]
     },
     "execution_count": 26,
     "metadata": {},
     "output_type": "execute_result"
    }
   ],
   "source": [
    "train_data.shape"
   ]
  },
  {
   "cell_type": "code",
   "execution_count": 27,
   "metadata": {
    "id": "77320e7c-d893-4750-a198-b5655b4857b1"
   },
   "outputs": [
    {
     "data": {
      "text/plain": [
       "(10, 7)"
      ]
     },
     "execution_count": 27,
     "metadata": {},
     "output_type": "execute_result"
    }
   ],
   "source": [
    "test_data.shape"
   ]
  },
  {
   "cell_type": "code",
   "execution_count": 28,
   "metadata": {
    "id": "f1aee910-68f2-4d15-8aba-2eef4cf67a27"
   },
   "outputs": [],
   "source": [
    "from ibm_watson_machine_learning.foundation_models.utils.enums import ModelTypes"
   ]
  },
  {
   "cell_type": "code",
   "execution_count": 29,
   "metadata": {
    "id": "03ddd55a-202d-4b4e-b773-e0fe4950dd29"
   },
   "outputs": [],
   "source": [
    "model_id = ModelTypes.FLAN_UL2"
   ]
  },
  {
   "cell_type": "code",
   "execution_count": 30,
   "metadata": {
    "id": "51f7fd3d-bdf0-4249-991c-ba82e566b052"
   },
   "outputs": [],
   "source": [
    "satisfaction_instruction = \"\"\"\n",
    "Was customer satisfied?\\n\n",
    "\n",
    "comment: I have had a few recent rentals that have taken a very long time , \n",
    "with no offer of apology.\n",
    "In the most recent case , the agent subsequently offered me a car type on\n",
    "an upgrade coupon and then told me it was no longer available\\n\n",
    "\n",
    "satisfaction :0\\n\\n\n",
    "\"\"\""
   ]
  },
  {
   "cell_type": "code",
   "execution_count": 31,
   "metadata": {
    "id": "75666d50-566d-4f6f-abca-611d12e1e774"
   },
   "outputs": [],
   "source": [
    "from ibm_watson_machine_learning.metanames import GenTextParamsMetaNames as GenParams\n",
    "\n",
    "parameters = {\n",
    "    GenParams.MAX_NEW_TOKENS: 10\n",
    "}"
   ]
  },
  {
   "cell_type": "code",
   "execution_count": 32,
   "metadata": {
    "id": "65b7de62-903d-4e24-be21-ad9928257be0"
   },
   "outputs": [],
   "source": [
    "from ibm_watson_machine_learning.foundation_models import Model\n",
    "\n",
    "model = Model(\n",
    "    model_id = model_id,\n",
    "    params = parameters,\n",
    "    credentials = credentials,\n",
    "    project_id=project_id)"
   ]
  },
  {
   "cell_type": "code",
   "execution_count": 61,
   "metadata": {
    "id": "f116db25-544a-4b48-ad64-bbf6ac44969f"
   },
   "outputs": [],
   "source": [
    "results = []\n",
    "comments = list(test_data[\"Customer Service\"])\n",
    "satisfaction = test_data[\"Satisfaction\"].astype(str).tolist()\n",
    "\n",
    "for input_text in comments:\n",
    "    results.append(model.generate_text(prompt=\" \".join([satisfaction_instruction,input_text])))"
   ]
  },
  {
   "cell_type": "code",
   "execution_count": 62,
   "metadata": {
    "id": "fe61f9fc-5b53-4a73-9ae0-264c7b5faa17"
   },
   "outputs": [
    {
     "data": {
      "text/plain": [
       "['Staff at pickup were helpful',\n",
       " 'I received an old model with scratches',\n",
       " 'Confusing dropoff instructions',\n",
       " 'Dropoff was fast and efficient',\n",
       " 'Difficult to navigate the app',\n",
       " 'The vehicle had mechanical issues',\n",
       " 'Customer support was very helpful',\n",
       " 'No one responded to my issue',\n",
       " 'The rental price was too high',\n",
       " 'Dropoff was fast and efficient']"
      ]
     },
     "execution_count": 62,
     "metadata": {},
     "output_type": "execute_result"
    }
   ],
   "source": [
    "comments"
   ]
  },
  {
   "cell_type": "code",
   "execution_count": 63,
   "metadata": {
    "id": "511d362e-6b2d-44de-9d48-641b05d127bd"
   },
   "outputs": [
    {
     "data": {
      "text/plain": [
       "['0', '0', '0', '1', '1', '0', '0', '0', '1', '1']"
      ]
     },
     "execution_count": 63,
     "metadata": {},
     "output_type": "execute_result"
    }
   ],
   "source": [
    "satisfaction"
   ]
  },
  {
   "cell_type": "code",
   "execution_count": 64,
   "metadata": {
    "id": "5c8ae8fe-1b69-495b-aa97-b620dcdbbe20"
   },
   "outputs": [
    {
     "data": {
      "text/plain": [
       "['no', 'no', 'no', 'no', 'no', 'no', 'satisfaction :1', 'No', 'no', 'no']"
      ]
     },
     "execution_count": 64,
     "metadata": {},
     "output_type": "execute_result"
    }
   ],
   "source": [
    "results"
   ]
  },
  {
   "cell_type": "code",
   "execution_count": null,
   "metadata": {
    "id": "4b4ca11f-83aa-4918-ae6a-ea69029e7775"
   },
   "outputs": [],
   "source": []
  },
  {
   "cell_type": "code",
   "execution_count": null,
   "metadata": {
    "id": "efbb3690-8b30-4b0d-88af-33611dedac2e"
   },
   "outputs": [],
   "source": []
  },
  {
   "cell_type": "code",
   "execution_count": 50,
   "metadata": {
    "id": "73c26c91-90ca-41c2-9334-04f2665a9997"
   },
   "outputs": [],
   "source": [
    "business_area_instruction = \"\"\"\n",
    "Find the business area of the customer email.\n",
    "Choose business area from the following list:\n",
    "'App Usability' , 'Pricing' , 'Dropoff Process' , \n",
    "'Pickup Process' , 'Customer Support' , 'Vehicle Quality ' \\n\n",
    "\n",
    "comment : I do not understand why I have to pay additional fee if vehicle is \n",
    "returned without a full tank. \\n\n",
    "business area : 'Pricing' \\n\\n\n",
    "\n",
    "\"\"\""
   ]
  },
  {
   "cell_type": "code",
   "execution_count": 51,
   "metadata": {
    "id": "27285091-26d7-49aa-acf6-33b1f774f7b1"
   },
   "outputs": [],
   "source": [
    "from ibm_watson_machine_learning.metanames import GenTextParamsMetaNames as GenParams\n",
    "\n",
    "parameters = {\n",
    "    GenParams.MAX_NEW_TOKENS: 15\n",
    "}"
   ]
  },
  {
   "cell_type": "code",
   "execution_count": 53,
   "metadata": {
    "id": "c1bfb01d-b2af-4e89-8d71-3b811badde4a"
   },
   "outputs": [],
   "source": [
    "from ibm_watson_machine_learning.foundation_models import Model\n",
    "\n",
    "model = Model(\n",
    "    model_id = model_id,\n",
    "    params = parameters,\n",
    "    credentials = credentials,\n",
    "    project_id=project_id)"
   ]
  },
  {
   "cell_type": "code",
   "execution_count": 65,
   "metadata": {
    "id": "671a42d4-d3ab-4d5e-89e0-1efc8b1c46e4"
   },
   "outputs": [],
   "source": [
    "results = []\n",
    "comments = list(test_data[\"Customer Service\"])\n",
    "area = list(test_data[\"Business Area\"])\n",
    "\n",
    "for input_text in comments:\n",
    "    results.append(model.generate_text(prompt=\" \".join([business_area_instruction,input_text])))"
   ]
  },
  {
   "cell_type": "code",
   "execution_count": 66,
   "metadata": {
    "id": "2a089eb3-13ef-4798-948d-2a05aea1c5ff"
   },
   "outputs": [
    {
     "data": {
      "text/plain": [
       "['Staff at pickup were helpful',\n",
       " 'I received an old model with scratches',\n",
       " 'Confusing dropoff instructions',\n",
       " 'Dropoff was fast and efficient',\n",
       " 'Difficult to navigate the app',\n",
       " 'The vehicle had mechanical issues',\n",
       " 'Customer support was very helpful',\n",
       " 'No one responded to my issue',\n",
       " 'The rental price was too high',\n",
       " 'Dropoff was fast and efficient']"
      ]
     },
     "execution_count": 66,
     "metadata": {},
     "output_type": "execute_result"
    }
   ],
   "source": [
    "comments"
   ]
  },
  {
   "cell_type": "code",
   "execution_count": 67,
   "metadata": {
    "id": "e223b88e-df85-49e3-a065-49e51871fde4"
   },
   "outputs": [
    {
     "data": {
      "text/plain": [
       "['Pickup Process',\n",
       " 'Vehicle Quality',\n",
       " 'Dropoff Process',\n",
       " 'Dropoff Process',\n",
       " 'App Usability',\n",
       " 'Vehicle Quality',\n",
       " 'Customer Support',\n",
       " 'Customer Support',\n",
       " 'Pricing',\n",
       " 'Dropoff Process']"
      ]
     },
     "execution_count": 67,
     "metadata": {},
     "output_type": "execute_result"
    }
   ],
   "source": [
    "area"
   ]
  },
  {
   "cell_type": "code",
   "execution_count": 68,
   "metadata": {
    "id": "0763857a-23ab-4d71-b082-71a1e33dca3e"
   },
   "outputs": [
    {
     "data": {
      "text/plain": [
       "['Pickup Process',\n",
       " 'Vehicle Quality',\n",
       " 'Dropoff Process',\n",
       " 'Dropoff Process',\n",
       " 'App Usability',\n",
       " 'Vehicle Quality',\n",
       " 'Customer Support',\n",
       " 'Customer Support',\n",
       " 'Pricing',\n",
       " 'Dropoff Process']"
      ]
     },
     "execution_count": 68,
     "metadata": {},
     "output_type": "execute_result"
    }
   ],
   "source": [
    "results"
   ]
  },
  {
   "cell_type": "code",
   "execution_count": null,
   "metadata": {
    "id": "517ba6d7-8064-440f-9019-c48073211aae"
   },
   "outputs": [],
   "source": []
  }
 ],
 "metadata": {
  "kernelspec": {
   "display_name": "Python 3 (ipykernel)",
   "language": "python",
   "name": "python3"
  },
  "language_info": {
   "codemirror_mode": {
    "name": "ipython",
    "version": 3
   },
   "file_extension": ".py",
   "mimetype": "text/x-python",
   "name": "python",
   "nbconvert_exporter": "python",
   "pygments_lexer": "ipython3",
   "version": "3.11.5"
  }
 },
 "nbformat": 4,
 "nbformat_minor": 4
}
